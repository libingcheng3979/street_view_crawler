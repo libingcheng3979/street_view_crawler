{
 "cells": [
  {
   "cell_type": "markdown",
   "id": "c4c2d957-f671-417a-b356-62f17766bec6",
   "metadata": {},
   "source": [
    "- 检查步骤：\n",
    "  1. 复制采样点文件中的wgs84坐标（可以通过arcgis的计算几何得到并导出），然后按步骤依次转换为gcj02和bd09ll\n",
    "  2. 将转换得到的bd09ll坐标输入至百度地图坐标拾取系统，看网页中所定位的地点是否与arcgis中的对应采样点位置一致。若二者一致则继续定位至百度地图全景图，看爬取的街景图片是否与网页上的全景图一致\n",
    "  3. 继续将bd09ll（百度经纬度）坐标转换至bd09mc（百度墨卡托），然后再反转换，看两个互转函数之间的差值是否可以接受\n",
    "  4. 最后使用 wgs84tobd09ll 函数，看直接将wgs84转换为bd09ll的效果如何，正常情况下应该与前面一步步转化的结果相同"
   ]
  },
  {
   "cell_type": "code",
   "execution_count": 1,
   "id": "fbc9e3a2-6fdf-4b8c-94c3-9772d877d997",
   "metadata": {},
   "outputs": [],
   "source": [
    "import CoordinatesConverterPro as cc"
   ]
  },
  {
   "cell_type": "code",
   "execution_count": 3,
   "id": "4e23a76e-d4af-4bee-97df-91c7e0df71e6",
   "metadata": {},
   "outputs": [
    {
     "data": {
      "text/plain": [
       "(109.02681554717071, 34.32290150271994)"
      ]
     },
     "execution_count": 3,
     "metadata": {},
     "output_type": "execute_result"
    }
   ],
   "source": [
    "cc.wgs84togcj02(109.021844,34.324246)"
   ]
  },
  {
   "cell_type": "code",
   "execution_count": 5,
   "id": "a4b7b895-d713-45d9-8bcb-3eeaf6fa5b83",
   "metadata": {},
   "outputs": [
    {
     "data": {
      "text/plain": [
       "(109.0334149152918, 34.32859593776484)"
      ]
     },
     "execution_count": 5,
     "metadata": {},
     "output_type": "execute_result"
    }
   ],
   "source": [
    "cc.gcj02tobd09ll(109.02681554717071, 34.32290150271994)"
   ]
  },
  {
   "cell_type": "code",
   "execution_count": 7,
   "id": "4d489481-048a-4417-8f3b-6c145e823f96",
   "metadata": {},
   "outputs": [
    {
     "data": {
      "text/plain": [
       "(12137676.294314113, 4048690.778634903)"
      ]
     },
     "execution_count": 7,
     "metadata": {},
     "output_type": "execute_result"
    }
   ],
   "source": [
    "cc.bd09lltobd09mc(109.0334149152918, 34.32859593776484)"
   ]
  },
  {
   "cell_type": "code",
   "execution_count": null,
   "id": "c1b2b0ed-8e8f-46de-a733-dc567990a7b8",
   "metadata": {},
   "outputs": [],
   "source": []
  },
  {
   "cell_type": "code",
   "execution_count": 9,
   "id": "6fe68e95-678e-4afc-b1ff-9f0cc007e2d5",
   "metadata": {},
   "outputs": [
    {
     "data": {
      "text/plain": [
       "(109.03341491529174, 34.32859596087807)"
      ]
     },
     "execution_count": 9,
     "metadata": {},
     "output_type": "execute_result"
    }
   ],
   "source": [
    "# 百度墨卡托转百度经纬度\n",
    "cc.bd09mctobd09ll(12137676.294314113, 4048690.778634903)"
   ]
  },
  {
   "cell_type": "code",
   "execution_count": null,
   "id": "d1337933-0924-46ef-b59d-4a0b09fc76d1",
   "metadata": {},
   "outputs": [],
   "source": []
  },
  {
   "cell_type": "code",
   "execution_count": null,
   "id": "b107fcff-d222-46d0-880f-27ad4d2ae579",
   "metadata": {},
   "outputs": [],
   "source": []
  },
  {
   "cell_type": "code",
   "execution_count": 11,
   "id": "ae571281-3cf8-4811-8757-de88ceccaebc",
   "metadata": {},
   "outputs": [
    {
     "data": {
      "text/plain": [
       "(109.0334149152918, 34.32859593776484)"
      ]
     },
     "execution_count": 11,
     "metadata": {},
     "output_type": "execute_result"
    }
   ],
   "source": [
    "cc.wgs84tobd09ll(109.021844,34.324246)"
   ]
  }
 ],
 "metadata": {
  "kernelspec": {
   "display_name": "DA",
   "language": "python",
   "name": "da"
  },
  "language_info": {
   "codemirror_mode": {
    "name": "ipython",
    "version": 3
   },
   "file_extension": ".py",
   "mimetype": "text/x-python",
   "name": "python",
   "nbconvert_exporter": "python",
   "pygments_lexer": "ipython3",
   "version": "3.10.15"
  }
 },
 "nbformat": 4,
 "nbformat_minor": 5
}
